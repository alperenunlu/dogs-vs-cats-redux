{
 "cells": [
  {
   "cell_type": "code",
   "execution_count": 1,
   "id": "6afc183b",
   "metadata": {
    "_cell_guid": "b1076dfc-b9ad-4769-8c92-a6c4dae69d19",
    "_uuid": "8f2839f25d086af736a60e9eeb907d3b93b6e0e5",
    "execution": {
     "iopub.execute_input": "2023-07-19T19:38:42.659779Z",
     "iopub.status.busy": "2023-07-19T19:38:42.659340Z",
     "iopub.status.idle": "2023-07-19T19:38:50.908009Z",
     "shell.execute_reply": "2023-07-19T19:38:50.907032Z"
    },
    "papermill": {
     "duration": 8.256862,
     "end_time": "2023-07-19T19:38:50.910253",
     "exception": false,
     "start_time": "2023-07-19T19:38:42.653391",
     "status": "completed"
    },
    "tags": []
   },
   "outputs": [
    {
     "name": "stderr",
     "output_type": "stream",
     "text": [
      "/opt/conda/lib/python3.10/site-packages/scipy/__init__.py:146: UserWarning: A NumPy version >=1.16.5 and <1.23.0 is required for this version of SciPy (detected version 1.23.5\n",
      "  warnings.warn(f\"A NumPy version >={np_minversion} and <{np_maxversion}\"\n",
      "/opt/conda/lib/python3.10/site-packages/tensorflow_io/python/ops/__init__.py:98: UserWarning: unable to load libtensorflow_io_plugins.so: unable to open file: libtensorflow_io_plugins.so, from paths: ['/opt/conda/lib/python3.10/site-packages/tensorflow_io/python/ops/libtensorflow_io_plugins.so']\n",
      "caused by: ['/opt/conda/lib/python3.10/site-packages/tensorflow_io/python/ops/libtensorflow_io_plugins.so: undefined symbol: _ZN3tsl6StatusC1EN10tensorflow5error4CodeESt17basic_string_viewIcSt11char_traitsIcEENS_14SourceLocationE']\n",
      "  warnings.warn(f\"unable to load libtensorflow_io_plugins.so: {e}\")\n",
      "/opt/conda/lib/python3.10/site-packages/tensorflow_io/python/ops/__init__.py:104: UserWarning: file system plugins are not loaded: unable to open file: libtensorflow_io.so, from paths: ['/opt/conda/lib/python3.10/site-packages/tensorflow_io/python/ops/libtensorflow_io.so']\n",
      "caused by: ['/opt/conda/lib/python3.10/site-packages/tensorflow_io/python/ops/libtensorflow_io.so: undefined symbol: _ZTVN10tensorflow13GcsFileSystemE']\n",
      "  warnings.warn(f\"file system plugins are not loaded: {e}\")\n"
     ]
    },
    {
     "name": "stdout",
     "output_type": "stream",
     "text": [
      "/kaggle/input/dogs-vs-cats-redux-kernels-edition/sample_submission.csv\n",
      "/kaggle/input/dogs-vs-cats-redux-kernels-edition/train.zip\n",
      "/kaggle/input/dogs-vs-cats-redux-kernels-edition/test.zip\n"
     ]
    }
   ],
   "source": [
    "import numpy as np\n",
    "import pandas as pd\n",
    "from tensorflow import keras\n",
    "import tensorflow as tf\n",
    "import os\n",
    "import shutil\n",
    "from zipfile import ZipFile\n",
    "\n",
    "for dirname, _, filenames in os.walk('/kaggle/input'):\n",
    "    for filename in filenames:\n",
    "        print(os.path.join(dirname, filename))"
   ]
  },
  {
   "cell_type": "code",
   "execution_count": 2,
   "id": "659dbc54",
   "metadata": {
    "execution": {
     "iopub.execute_input": "2023-07-19T19:38:50.921185Z",
     "iopub.status.busy": "2023-07-19T19:38:50.919807Z",
     "iopub.status.idle": "2023-07-19T19:39:06.238056Z",
     "shell.execute_reply": "2023-07-19T19:39:06.237030Z"
    },
    "papermill": {
     "duration": 15.325786,
     "end_time": "2023-07-19T19:39:06.240395",
     "exception": false,
     "start_time": "2023-07-19T19:38:50.914609",
     "status": "completed"
    },
    "tags": []
   },
   "outputs": [],
   "source": [
    "path = \"/kaggle/input/dogs-vs-cats-redux-kernels-edition/\"\n",
    "\n",
    "with ZipFile(path + \"train.zip\") as train_zip:\n",
    "    train_zip.extractall(\"/kaggle/working\")\n",
    "    \n",
    "with ZipFile(path + \"test.zip\") as test_zip:\n",
    "    test_zip.extractall(\"/kaggle/working\")"
   ]
  },
  {
   "cell_type": "code",
   "execution_count": 3,
   "id": "693c1b7d",
   "metadata": {
    "execution": {
     "iopub.execute_input": "2023-07-19T19:39:06.251824Z",
     "iopub.status.busy": "2023-07-19T19:39:06.250320Z",
     "iopub.status.idle": "2023-07-19T19:39:07.439527Z",
     "shell.execute_reply": "2023-07-19T19:39:07.438537Z"
    },
    "papermill": {
     "duration": 1.196737,
     "end_time": "2023-07-19T19:39:07.441913",
     "exception": false,
     "start_time": "2023-07-19T19:39:06.245176",
     "status": "completed"
    },
    "tags": []
   },
   "outputs": [],
   "source": [
    "train_path = \"/kaggle/working/train/\"\n",
    "test_path = \"/kaggle/working/test/\"\n",
    "\n",
    "os.mkdir(train_path + \"cat\")\n",
    "os.mkdir(train_path + \"dog\")\n",
    "\n",
    "for file in os.listdir(train_path):\n",
    "    if file.startswith(\"cat\"):\n",
    "        shutil.move(train_path + file, train_path + \"cat\")\n",
    "    elif file.startswith(\"dog\"):\n",
    "        shutil.move(train_path + file, train_path + \"dog\")\n",
    "    else:\n",
    "        print(file + \"is not cat or dog.\")"
   ]
  },
  {
   "cell_type": "code",
   "execution_count": 4,
   "id": "a5d19732",
   "metadata": {
    "execution": {
     "iopub.execute_input": "2023-07-19T19:39:07.452266Z",
     "iopub.status.busy": "2023-07-19T19:39:07.451943Z",
     "iopub.status.idle": "2023-07-19T19:39:13.965964Z",
     "shell.execute_reply": "2023-07-19T19:39:13.965013Z"
    },
    "papermill": {
     "duration": 6.521629,
     "end_time": "2023-07-19T19:39:13.968361",
     "exception": false,
     "start_time": "2023-07-19T19:39:07.446732",
     "status": "completed"
    },
    "tags": []
   },
   "outputs": [
    {
     "name": "stdout",
     "output_type": "stream",
     "text": [
      "Found 25000 files belonging to 2 classes.\n",
      "Using 22500 files for training.\n",
      "Found 25000 files belonging to 2 classes.\n",
      "Using 2500 files for validation.\n",
      "Found 12500 files belonging to 1 classes.\n"
     ]
    }
   ],
   "source": [
    "seed = 0\n",
    "IMG_SHAPE = (500, 500)\n",
    "\n",
    "train_dataset = keras.preprocessing.image_dataset_from_directory(train_path,\n",
    "                                                                 shuffle=True,\n",
    "                                                                 subset=\"training\",\n",
    "                                                                 validation_split=0.1,\n",
    "                                                                 image_size=IMG_SHAPE,\n",
    "                                                                 seed=seed,\n",
    "                                                                 batch_size=64)\n",
    "\n",
    "valid_dataset = keras.preprocessing.image_dataset_from_directory(train_path,\n",
    "                                                                shuffle=True,\n",
    "                                                                subset=\"validation\",\n",
    "                                                                validation_split=0.1,\n",
    "                                                                seed=seed,\n",
    "                                                                image_size=IMG_SHAPE,\n",
    "                                                                batch_size=64)\n",
    "\n",
    "test_dataset = keras.preprocessing.image_dataset_from_directory(test_path,\n",
    "                                                                shuffle=False,\n",
    "                                                                label_mode=None,\n",
    "                                                                image_size=IMG_SHAPE,\n",
    "                                                                batch_size=64)"
   ]
  },
  {
   "cell_type": "code",
   "execution_count": 5,
   "id": "25bdaab2",
   "metadata": {
    "execution": {
     "iopub.execute_input": "2023-07-19T19:39:13.979470Z",
     "iopub.status.busy": "2023-07-19T19:39:13.978646Z",
     "iopub.status.idle": "2023-07-19T19:39:13.996546Z",
     "shell.execute_reply": "2023-07-19T19:39:13.995661Z"
    },
    "papermill": {
     "duration": 0.025625,
     "end_time": "2023-07-19T19:39:13.998762",
     "exception": false,
     "start_time": "2023-07-19T19:39:13.973137",
     "status": "completed"
    },
    "tags": []
   },
   "outputs": [],
   "source": [
    "augmentation = keras.Sequential([\n",
    "    keras.layers.RandomFlip(\"horizontal\"),\n",
    "    keras.layers.RandomRotation(0.2)\n",
    "])"
   ]
  },
  {
   "cell_type": "code",
   "execution_count": 6,
   "id": "62b7d849",
   "metadata": {
    "execution": {
     "iopub.execute_input": "2023-07-19T19:39:14.009271Z",
     "iopub.status.busy": "2023-07-19T19:39:14.008961Z",
     "iopub.status.idle": "2023-07-19T19:39:23.627168Z",
     "shell.execute_reply": "2023-07-19T19:39:23.626157Z"
    },
    "papermill": {
     "duration": 9.626643,
     "end_time": "2023-07-19T19:39:23.630024",
     "exception": false,
     "start_time": "2023-07-19T19:39:14.003381",
     "status": "completed"
    },
    "tags": []
   },
   "outputs": [
    {
     "name": "stdout",
     "output_type": "stream",
     "text": [
      "Downloading data from https://storage.googleapis.com/tensorflow/keras-applications/inception_resnet_v2/inception_resnet_v2_weights_tf_dim_ordering_tf_kernels_notop.h5\n",
      "219055592/219055592 [==============================] - 1s 0us/step\n",
      "Model: \"model\"\n",
      "_________________________________________________________________\n",
      " Layer (type)                Output Shape              Param #   \n",
      "=================================================================\n",
      " input_2 (InputLayer)        [(None, 500, 500, 3)]     0         \n",
      "                                                                 \n",
      " tf.math.truediv (TFOpLambda  (None, 500, 500, 3)      0         \n",
      " )                                                               \n",
      "                                                                 \n",
      " tf.math.subtract (TFOpLambd  (None, 500, 500, 3)      0         \n",
      " a)                                                              \n",
      "                                                                 \n",
      " inception_resnet_v2 (Functi  (None, 14, 14, 1536)     54336736  \n",
      " onal)                                                           \n",
      "                                                                 \n",
      " global_average_pooling2d (G  (None, 1536)             0         \n",
      " lobalAveragePooling2D)                                          \n",
      "                                                                 \n",
      " dropout (Dropout)           (None, 1536)              0         \n",
      "                                                                 \n",
      " dense (Dense)               (None, 1)                 1537      \n",
      "                                                                 \n",
      "=================================================================\n",
      "Total params: 54,338,273\n",
      "Trainable params: 1,537\n",
      "Non-trainable params: 54,336,736\n",
      "_________________________________________________________________\n"
     ]
    }
   ],
   "source": [
    "base_model = keras.applications.InceptionResNetV2(include_top=False, weights=\"imagenet\", input_shape=(IMG_SHAPE) + (3, ))\n",
    "\n",
    "preprocess_input = keras.applications.inception_resnet_v2.preprocess_input\n",
    "\n",
    "base_model.trainable = False\n",
    "\n",
    "inputs = keras.layers.Input(shape=(IMG_SHAPE) + (3, ))\n",
    "\n",
    "x = augmentation(inputs)\n",
    "\n",
    "x = preprocess_input(inputs)\n",
    "\n",
    "x = base_model(x, training=False)\n",
    "\n",
    "x = keras.layers.GlobalAveragePooling2D()(x)\n",
    "\n",
    "x = keras.layers.Dropout(0.5)(x)\n",
    "\n",
    "outputs = keras.layers.Dense(1)(x)\n",
    "\n",
    "model = keras.Model(inputs, outputs)\n",
    "\n",
    "model.summary()"
   ]
  },
  {
   "cell_type": "code",
   "execution_count": 7,
   "id": "2d06de2a",
   "metadata": {
    "execution": {
     "iopub.execute_input": "2023-07-19T19:39:23.650032Z",
     "iopub.status.busy": "2023-07-19T19:39:23.648436Z",
     "iopub.status.idle": "2023-07-19T19:46:56.679269Z",
     "shell.execute_reply": "2023-07-19T19:46:56.678142Z"
    },
    "papermill": {
     "duration": 453.078141,
     "end_time": "2023-07-19T19:46:56.716876",
     "exception": false,
     "start_time": "2023-07-19T19:39:23.638735",
     "status": "completed"
    },
    "tags": []
   },
   "outputs": [
    {
     "name": "stdout",
     "output_type": "stream",
     "text": [
      "352/352 [==============================] - 400s 1s/step - loss: 0.1263 - accuracy: 0.9616 - val_loss: 0.0423 - val_accuracy: 0.9944\n"
     ]
    },
    {
     "data": {
      "text/plain": [
       "<keras.callbacks.History at 0x787c0819a7a0>"
      ]
     },
     "execution_count": 7,
     "metadata": {},
     "output_type": "execute_result"
    }
   ],
   "source": [
    "init_epoch = 1\n",
    "\n",
    "optimizer = keras.optimizers.Adam()\n",
    "loss = keras.losses.BinaryCrossentropy(from_logits=True)\n",
    "\n",
    "model.compile(optimizer=optimizer,\n",
    "              loss=loss,\n",
    "              metrics=[\"accuracy\"])\n",
    "\n",
    "model.fit(train_dataset, epochs=init_epoch, validation_data=valid_dataset)"
   ]
  },
  {
   "cell_type": "code",
   "execution_count": 8,
   "id": "1bf2c5fd",
   "metadata": {
    "execution": {
     "iopub.execute_input": "2023-07-19T19:46:56.787890Z",
     "iopub.status.busy": "2023-07-19T19:46:56.786768Z",
     "iopub.status.idle": "2023-07-19T19:50:02.160545Z",
     "shell.execute_reply": "2023-07-19T19:50:02.159500Z"
    },
    "papermill": {
     "duration": 185.411641,
     "end_time": "2023-07-19T19:50:02.162968",
     "exception": false,
     "start_time": "2023-07-19T19:46:56.751327",
     "status": "completed"
    },
    "tags": []
   },
   "outputs": [
    {
     "name": "stdout",
     "output_type": "stream",
     "text": [
      "196/196 [==============================] - 185s 928ms/step\n"
     ]
    }
   ],
   "source": [
    "preds = tf.sigmoid(model.predict(test_dataset)).numpy().flatten()"
   ]
  },
  {
   "cell_type": "code",
   "execution_count": 9,
   "id": "ae2a9a9b",
   "metadata": {
    "execution": {
     "iopub.execute_input": "2023-07-19T19:50:02.263212Z",
     "iopub.status.busy": "2023-07-19T19:50:02.262313Z",
     "iopub.status.idle": "2023-07-19T19:50:02.268623Z",
     "shell.execute_reply": "2023-07-19T19:50:02.267771Z"
    },
    "papermill": {
     "duration": 0.0586,
     "end_time": "2023-07-19T19:50:02.270666",
     "exception": false,
     "start_time": "2023-07-19T19:50:02.212066",
     "status": "completed"
    },
    "tags": []
   },
   "outputs": [],
   "source": [
    "preds_clipped = np.clip(preds, 0.01, 0.99)"
   ]
  },
  {
   "cell_type": "code",
   "execution_count": 10,
   "id": "d85094cb",
   "metadata": {
    "execution": {
     "iopub.execute_input": "2023-07-19T19:50:02.371806Z",
     "iopub.status.busy": "2023-07-19T19:50:02.370032Z",
     "iopub.status.idle": "2023-07-19T19:50:02.386036Z",
     "shell.execute_reply": "2023-07-19T19:50:02.385046Z"
    },
    "papermill": {
     "duration": 0.067962,
     "end_time": "2023-07-19T19:50:02.388028",
     "exception": false,
     "start_time": "2023-07-19T19:50:02.320066",
     "status": "completed"
    },
    "tags": []
   },
   "outputs": [],
   "source": [
    "dic = dict(zip([int(i[21:-4]) for i in test_dataset.file_paths], preds_clipped))\n",
    "dic = dict(sorted(dic.items()))"
   ]
  },
  {
   "cell_type": "code",
   "execution_count": 11,
   "id": "2d0c8a46",
   "metadata": {
    "execution": {
     "iopub.execute_input": "2023-07-19T19:50:02.487649Z",
     "iopub.status.busy": "2023-07-19T19:50:02.487252Z",
     "iopub.status.idle": "2023-07-19T19:50:02.519125Z",
     "shell.execute_reply": "2023-07-19T19:50:02.518159Z"
    },
    "papermill": {
     "duration": 0.084452,
     "end_time": "2023-07-19T19:50:02.521515",
     "exception": false,
     "start_time": "2023-07-19T19:50:02.437063",
     "status": "completed"
    },
    "tags": []
   },
   "outputs": [
    {
     "data": {
      "text/html": [
       "<div>\n",
       "<style scoped>\n",
       "    .dataframe tbody tr th:only-of-type {\n",
       "        vertical-align: middle;\n",
       "    }\n",
       "\n",
       "    .dataframe tbody tr th {\n",
       "        vertical-align: top;\n",
       "    }\n",
       "\n",
       "    .dataframe thead th {\n",
       "        text-align: right;\n",
       "    }\n",
       "</style>\n",
       "<table border=\"1\" class=\"dataframe\">\n",
       "  <thead>\n",
       "    <tr style=\"text-align: right;\">\n",
       "      <th></th>\n",
       "      <th>label</th>\n",
       "    </tr>\n",
       "    <tr>\n",
       "      <th>id</th>\n",
       "      <th></th>\n",
       "    </tr>\n",
       "  </thead>\n",
       "  <tbody>\n",
       "    <tr>\n",
       "      <th>1</th>\n",
       "      <td>0.987697</td>\n",
       "    </tr>\n",
       "    <tr>\n",
       "      <th>2</th>\n",
       "      <td>0.972984</td>\n",
       "    </tr>\n",
       "    <tr>\n",
       "      <th>3</th>\n",
       "      <td>0.895551</td>\n",
       "    </tr>\n",
       "    <tr>\n",
       "      <th>4</th>\n",
       "      <td>0.987241</td>\n",
       "    </tr>\n",
       "    <tr>\n",
       "      <th>5</th>\n",
       "      <td>0.010000</td>\n",
       "    </tr>\n",
       "  </tbody>\n",
       "</table>\n",
       "</div>"
      ],
      "text/plain": [
       "       label\n",
       "id          \n",
       "1   0.987697\n",
       "2   0.972984\n",
       "3   0.895551\n",
       "4   0.987241\n",
       "5   0.010000"
      ]
     },
     "execution_count": 11,
     "metadata": {},
     "output_type": "execute_result"
    }
   ],
   "source": [
    "df = pd.DataFrame.from_dict(dic, orient='index', columns=['label'])\n",
    "df.index.name = 'id'\n",
    "df.head()"
   ]
  },
  {
   "cell_type": "code",
   "execution_count": 12,
   "id": "fa664640",
   "metadata": {
    "execution": {
     "iopub.execute_input": "2023-07-19T19:50:02.624968Z",
     "iopub.status.busy": "2023-07-19T19:50:02.623851Z",
     "iopub.status.idle": "2023-07-19T19:50:02.667851Z",
     "shell.execute_reply": "2023-07-19T19:50:02.666910Z"
    },
    "papermill": {
     "duration": 0.097448,
     "end_time": "2023-07-19T19:50:02.670038",
     "exception": false,
     "start_time": "2023-07-19T19:50:02.572590",
     "status": "completed"
    },
    "tags": []
   },
   "outputs": [],
   "source": [
    "df.to_csv(\"submission.csv\")"
   ]
  }
 ],
 "metadata": {
  "kernelspec": {
   "display_name": "Python 3",
   "language": "python",
   "name": "python3"
  },
  "language_info": {
   "codemirror_mode": {
    "name": "ipython",
    "version": 3
   },
   "file_extension": ".py",
   "mimetype": "text/x-python",
   "name": "python",
   "nbconvert_exporter": "python",
   "pygments_lexer": "ipython3",
   "version": "3.10.12"
  },
  "papermill": {
   "default_parameters": {},
   "duration": 694.077708,
   "end_time": "2023-07-19T19:50:06.742482",
   "environment_variables": {},
   "exception": null,
   "input_path": "__notebook__.ipynb",
   "output_path": "__notebook__.ipynb",
   "parameters": {},
   "start_time": "2023-07-19T19:38:32.664774",
   "version": "2.4.0"
  }
 },
 "nbformat": 4,
 "nbformat_minor": 5
}
